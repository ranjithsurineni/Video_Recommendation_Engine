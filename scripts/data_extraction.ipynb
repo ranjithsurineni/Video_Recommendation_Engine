{
 "cells": [
  {
   "cell_type": "code",
   "execution_count": 1,
   "metadata": {},
   "outputs": [
    {
     "name": "stdout",
     "output_type": "stream",
     "text": [
      "Data saved successfully!\n"
     ]
    }
   ],
   "source": [
    "import requests\n",
    "import pandas as pd\n",
    "\n",
    "API_URL = \"https://api.socialverseapp.com/posts/view?page=1&page_size=1000\"\n",
    "HEADERS = {\"Flic-Token\": \"flic_11d3da28e403d182c36a3530453e290add87d0b4a40ee50f17611f180d47956f\"}\n",
    "\n",
    "def get_user_data():\n",
    "    response = requests.get(API_URL, headers=HEADERS)\n",
    "    data = response.json()\n",
    "    return data\n",
    "\n",
    "# Fetch and save data\n",
    "data = get_user_data()\n",
    "df = pd.DataFrame(data)\n",
    "df.to_csv(\"user_data.csv\", index=False)\n",
    "\n",
    "print(\"Data saved successfully!\")\n"
   ]
  },
  {
   "cell_type": "code",
   "execution_count": null,
   "metadata": {},
   "outputs": [],
   "source": []
  }
 ],
 "metadata": {
  "kernelspec": {
   "display_name": "recom",
   "language": "python",
   "name": "python3"
  },
  "language_info": {
   "codemirror_mode": {
    "name": "ipython",
    "version": 3
   },
   "file_extension": ".py",
   "mimetype": "text/x-python",
   "name": "python",
   "nbconvert_exporter": "python",
   "pygments_lexer": "ipython3",
   "version": "3.12.7"
  }
 },
 "nbformat": 4,
 "nbformat_minor": 2
}
